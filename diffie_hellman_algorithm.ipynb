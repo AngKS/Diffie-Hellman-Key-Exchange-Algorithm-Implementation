{
 "cells": [
  {
   "cell_type": "markdown",
   "metadata": {},
   "source": [
    "# Diffie-Hellman Key-Exchange Algorithm in Python\n",
    "\n",
    "The Diffie-Hellman Key Exchange Algorithm (DHKE) is on of the most robust and secure standard of key exchange between entities communicating over a network. The whole central idea of the Diffie-Hellman Key Exchange algorithm revolves around the fact of mutual key derivation by the communicating entities through the mathematical process without actually physically sharing the keys. The concept relies on the fact of deriving the common key through a set of parameters i.e the prime P and a generator of prime G."
   ]
  },
  {
   "cell_type": "code",
   "execution_count": 2,
   "metadata": {},
   "outputs": [],
   "source": [
    "#Diffie-Hellman Key Exchange Algorithm\n",
    "\"\"\"\n",
    "This program tries to implement the standard Deffie-Hellman key exchange algorithm\n",
    "that mathematically helps the networking entities to derieve the key pairs without\n",
    "the actual physical key sharing.\n",
    "\"\"\"\n",
    "\n",
    "import random\n"
   ]
  },
  {
   "cell_type": "code",
   "execution_count": 9,
   "metadata": {},
   "outputs": [],
   "source": [
    "class DiffieHellman:\n",
    "    def __init__(self, p, g):\n",
    "        self.G_param = g\n",
    "        self.P_param = p\n",
    "    \n",
    "    def generate_private_key(self):\n",
    "        self.private_key = random.randrange(start = 1,stop = 10,step = 1)\n",
    "\n",
    "    def generate_public_key(self):\n",
    "        self.pub_key = pow(self.G_param,self.private_key) % self.P_param\n",
    "\n",
    "    def generate_exchange_key(self, other_pub_key):\n",
    "        self.exchange_key = pow(other_pub_key, self.private_key) % self.P_param\n",
    "\n",
    "\n"
   ]
  },
  {
   "cell_type": "code",
   "execution_count": 31,
   "metadata": {},
   "outputs": [
    {
     "name": "stdout",
     "output_type": "stream",
     "text": [
      "------------Private Keys------------------\n",
      "\n",
      "Alice's private key:  7\n",
      "Bob's private key:  6\n",
      "------------End of Private Keys------------\n",
      "\n",
      "\n",
      "------------Public Keys------------------\n",
      "\n",
      "Alice's public key:  256\n",
      "Bob's public key:  1\n",
      "------------End of Public Keys-----------\n",
      "\n",
      "\n",
      "------------Shared Key Derieved------------------\n",
      "\n",
      "Alice's exchange key:  1\n",
      "Bob's exchange key:  1\n",
      "------------End of Shared Key Derieved-----------\n",
      "\n",
      "Both entities have the same exchange key\n"
     ]
    }
   ],
   "source": [
    "# initialize 2 entities\n",
    "\n",
    "alice = DiffieHellman(random.randint(0, 1000), random.randint(0, 1000))\n",
    "bob = DiffieHellman(random.randint(0, 1000), random.randint(0, 1000))\n",
    "\n",
    "# generate private keys for both entities\n",
    "alice.generate_private_key()\n",
    "bob.generate_private_key()\n",
    "\n",
    "print(\"------------Private Keys------------------\\n\")\n",
    "print(\"Alice's private key: \", alice.private_key)\n",
    "print(\"Bob's private key: \", bob.private_key)\n",
    "print(\"------------End of Private Keys------------\\n\\n\")\n",
    "\n",
    "# generate public keys for both entities\n",
    "alice.generate_public_key()\n",
    "bob.generate_public_key()\n",
    "\n",
    "print(\"------------Public Keys------------------\\n\")\n",
    "print(\"Alice's public key: \", alice.pub_key)\n",
    "print(\"Bob's public key: \", bob.pub_key)\n",
    "print(\"------------End of Public Keys-----------\\n\\n\")\n",
    "\n",
    "# generate exchange keys for both entities\n",
    "alice.generate_exchange_key(bob.pub_key)\n",
    "bob.generate_exchange_key(alice.pub_key)\n",
    "\n",
    "print(\"------------Shared Key Derieved------------------\\n\")\n",
    "print(\"Alice's exchange key: \", alice.exchange_key)\n",
    "print(\"Bob's exchange key: \", bob.exchange_key)\n",
    "print(\"------------End of Shared Key Derieved-----------\\n\")\n",
    "\n",
    "# check if both entities have the same exchange key\n",
    "\n",
    "if alice.exchange_key == bob.exchange_key:\n",
    "    print(\"Both entities have the same exchange key\")\n",
    "else:\n",
    "    print(\"Both entities have different exchange keys\")\n",
    "\n",
    "\n"
   ]
  },
  {
   "cell_type": "code",
   "execution_count": null,
   "metadata": {},
   "outputs": [],
   "source": []
  }
 ],
 "metadata": {
  "kernelspec": {
   "display_name": "Python 3",
   "language": "python",
   "name": "python3"
  },
  "language_info": {
   "codemirror_mode": {
    "name": "ipython",
    "version": 3
   },
   "file_extension": ".py",
   "mimetype": "text/x-python",
   "name": "python",
   "nbconvert_exporter": "python",
   "pygments_lexer": "ipython3",
   "version": "3.12.1"
  }
 },
 "nbformat": 4,
 "nbformat_minor": 2
}
